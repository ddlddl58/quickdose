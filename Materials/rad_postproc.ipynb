{
 "metadata": {
  "name": "",
  "signature": "sha256:f9b84a36c0fb746711162dd2180f38a2656087f4e5a3ba38a6424d4e78796165"
 },
 "nbformat": 3,
 "nbformat_minor": 0,
 "worksheets": [
  {
   "cells": [
    {
     "cell_type": "markdown",
     "metadata": {},
     "source": [
      "## Radiological postprocessing of FLEXPART outputs\n",
      "\n",
      "Radek Hofman, April 2015"
     ]
    },
    {
     "cell_type": "markdown",
     "metadata": {},
     "source": [
      "### Radioactive dacay\n",
      "$$N=N_0\\exp(-\\lambda t)$$\n",
      "\n",
      "* $\\lambda=\\frac{\\ln 2}{T_{1/2}}$ is a decay constant, $T_{1/2}$ is decay half-life\n",
      "\n",
      "To know, how big is decay coefficient $f_r$ for some time interval $(t_1,t_2)$, we have to integrate over time:\n",
      "\\begin{eqnarray}f_r(t_1,t_2) &= & \\int_{t_1}^{t_2}\\exp(-\\lambda t) dt\\\\\n",
      "  & = & -\\frac{1}{\\lambda}\\int_{-\\lambda t_1}^{-\\lambda t_2} \\exp(u) du \\\\\n",
      "  & = & -\\frac{1}{\\lambda}[\\exp(-\\lambda t_2) - \\exp(-\\lambda t_1)]\n",
      "\\end{eqnarray}\n",
      "\n",
      "### Average concentration\n",
      "We need to obtain an average concentration over output time slot n (we have concentration gridded in time and assume that it is constant during time steps)\n",
      "\n",
      "concentration at time $t$:\n",
      "$$c_n=\\sum_{k=1} a_{n,k} Q_k,$$\n",
      "where $a_{n,k}$ is SRS sensitivity resulting from a unit release at slot $k$ for mean concentration in output slot $n$ between $(t_1,t_2)$ (on output!, e.g. 3 hours) and $Q_k$ is corresponding release at source time slot $k$\n",
      "* $k$ iterates over release slots, $n$ iterates over output time slots since the release start\n",
      "\n",
      "#### Now we have to add rad decay now\n",
      "* It is not importatnt when was what released because everything dcays with the same rate singe the reactor stop! E.g. the rate of release in a source term is constant in time, but effluent contains less activity because it already decayes since the reactor stop. If the release is really constant, its content in the effluent would have to increase of the effluent rate would have to increase.\n",
      "* $t$ is counted from stop of chain reaction!\n",
      "* We must calculate an average concentration over a time interval taking radioactive decay into account. \n",
      "* Generally, integral concentration over a time interval with decay is:\n",
      "$$\n",
      "c(t_1,t_2) = \\int_{t_1}^{t_2} c(t)f(t)dt\n",
      "$$\n",
      "* We don't know the function of concentratio in time $c(t)$ and approximate this by a constant value $c_n$ valid for the whole time interval (e.g. 3 hours).\n",
      "* So, this can be put before integration and we integrate just the decay facotor, whic is \n",
      "$$\n",
      "c(t_1,t_2) = \\frac{c_n}{\\lambda}[\\exp(-\\lambda t_1) - \\exp(-\\lambda t_2)]\n",
      "$$ \n",
      "* To get an average value we have to divide it by length of the time interval $(t_2-t_1)$\n",
      "$$\n",
      "\\bar{c}(t_1,t_2) = \\frac{c_n}{\\lambda(t_2-t_1)}[\\exp(-\\lambda t_1) - \\exp(-\\lambda t_2)]\n",
      "$$ \n",
      "* To get time integrted concentration we can multiple the average concentration by the time length:\n",
      "$$\n",
      "c_{(t_1,t_2)}=c_n(t_2-t_1)\n",
      "$$\n"
     ]
    },
    {
     "cell_type": "code",
     "collapsed": false,
     "input": [
      "import math\n",
      "\n",
      "def get_lambda(thalf):\n",
      "    \"\"\"\n",
      "    calculates radioactive decay constant from decay half-life\n",
      "    \"\"\"\n",
      "\n",
      "    return math.log(2)/thalf\n",
      "\n",
      "\n",
      "def decay(t1, t2, lamb):\n",
      "    \"\"\"\n",
      "    calculates radioactive decay\n",
      "    \n",
      "    t1, t2 - time in second since the end of chain reaction\n",
      "    lamb - radioactive decay constant\n",
      "    \"\"\"\n",
      "    \n",
      "    return (math.exp(-lamb*t1) - math.exp(-lamb*t2))/(lamb*(t2-t1))\n"
     ],
     "language": "python",
     "metadata": {},
     "outputs": [],
     "prompt_number": 37
    },
    {
     "cell_type": "markdown",
     "metadata": {},
     "source": [
      "#### Let's try it!\n",
      "Firstly, let us define some sample signal (function of activity concentration in time):"
     ]
    },
    {
     "cell_type": "code",
     "collapsed": false,
     "input": [
      "import numpy\n",
      "%matplotlib inline\n",
      "from matplotlib import pyplot as plt"
     ],
     "language": "python",
     "metadata": {},
     "outputs": [],
     "prompt_number": 2
    },
    {
     "cell_type": "code",
     "collapsed": false,
     "input": [
      "a = numpy.ones(10)"
     ],
     "language": "python",
     "metadata": {},
     "outputs": [],
     "prompt_number": 5
    },
    {
     "cell_type": "code",
     "collapsed": false,
     "input": [
      "plt.step(range(10), a)\n",
      "plt.xlabel(\"Time step\")\n",
      "plt.ylabel(\"Activity concentration\")"
     ],
     "language": "python",
     "metadata": {},
     "outputs": [
      {
       "metadata": {},
       "output_type": "pyout",
       "prompt_number": 6,
       "text": [
        "<matplotlib.text.Text at 0x104d89690>"
       ]
      },
      {
       "metadata": {},
       "output_type": "display_data",
       "png": "[encoded data removed]",
       "text": [
        "<matplotlib.figure.Figure at 0x104d92710>"
       ]
      }
     ],
     "prompt_number": 6
    },
    {
     "cell_type": "code",
     "collapsed": false,
     "input": [
      "thalf = 1 * 3600.\n",
      "lamb = get_lambda(thalf)\n",
      "timestep = 1 *3600.  # time step in seconds\n",
      "a_dec = numpy.zeros(a.shape[0])\n",
      "\n",
      "for t in range(a_dec.shape[0]):\n",
      "    a_dec[t] =  a[t] * decay(t*timestep, (t+1)*timestep, lamb)\n",
      "    print a[t], a_dec[t]\n",
      "\n",
      "#plt.plot(range(1,11), a)\n",
      "plt.plot(range(1,11), a_dec)\n",
      "\n",
      "plt.step(range(2,12), a, label=\"av. conc\")\n",
      "plt.step(range(2,12), a_dec, label=\"av. conc. decay\")  # we shist the support to have the value valid the following interval, not preceeding\n",
      "\n",
      "plt.xlabel(\"Time step\")\n",
      "plt.ylabel(\"Activity concentration\")\n",
      "plt.ylim(-0.1,1.1)\n",
      "plt.xlim(0,11)\n",
      "plt.grid()\n",
      "plt.legend(loc=\"best\")"
     ],
     "language": "python",
     "metadata": {},
     "outputs": [
      {
       "output_type": "stream",
       "stream": "stdout",
       "text": [
        "1.0 0.721347520444\n",
        "1.0 0.360673760222\n",
        "1.0 0.180336880111\n",
        "1.0 0.0901684400556\n",
        "1.0 0.0450842200278\n",
        "1.0 0.0225421100139\n",
        "1.0 0.0112710550069\n",
        "1.0 0.00563552750347\n",
        "1.0 0.00281776375174\n",
        "1.0 0.00140888187587\n"
       ]
      },
      {
       "metadata": {},
       "output_type": "pyout",
       "prompt_number": 38,
       "text": [
        "<matplotlib.legend.Legend at 0x1056155d0>"
       ]
      },
      {
       "metadata": {},
       "output_type": "display_data",
       "png": "[encoded data removed]",
       "text": [
        "<matplotlib.figure.Figure at 0x10531c9d0>"
       ]
      }
     ],
     "prompt_number": 38
    },
    {
     "cell_type": "markdown",
     "metadata": {},
     "source": [
      "### How to implement a decay chain?"
     ]
    },
    {
     "cell_type": "markdown",
     "metadata": {},
     "source": [
      "To calculate numbers of atoms in a decay $A_1\\rightarrow A_2 \\rightarrow \\ldots \\rightarrow A_D$ we use Bateman's equation:\n",
      "$$\n",
      "N_D=\\frac{N_1(t=0)}{\\lambda_D}\\sum_{i=1}^D \\lambda_i \\prod_{j=1,j\\neq i}^D \\frac{\\lambda_j}{\\lambda_j-\\lambda_i} \\exp(-\\lambda_i t)\n",
      "$$\n",
      "The equations assumes that branching ratios are 1. for all decays and there are no daughters atoms present in time $t=0$, i.e. $N_2=N_3=\\ldots=N_D=0$."
     ]
    },
    {
     "cell_type": "markdown",
     "metadata": {},
     "source": [
      "### Special case D=2: $A_1\\rightarrow A_2 \\rightarrow A_3$\n",
      "Let's assume a case where we have 2 nuclides $A_1$ and $A_2$ with decay constants $\\lambda_1$ and $\\lambda_2$, respectively:\n",
      "\\begin{eqnarray}\n",
      "N_2 & = & \\frac{N_1}{\\lambda_2}\\left( \\lambda_1\\frac{\\lambda_2}{\\lambda_2-\\lambda_1}\\exp(-\\lambda_1t) +          \\lambda_2\\frac{\\lambda_1}{\\lambda_1-\\lambda_2}\\exp(-\\lambda_2t)  \\right)\\\\\n",
      "    & = & N_1\\left(\\frac{\\lambda_1}{\\lambda_2-\\lambda_1}\\exp(-\\lambda_1t) - \\frac{\\lambda_1}{\\lambda_2-\\lambda_1}\\exp(-\\lambda_2t) \\right) \\\\\n",
      "    & = & N_1\\frac{\\lambda_1}{\\lambda_2-\\lambda_1}\\left(\\exp(-\\lambda_1t)-\\exp(-\\lambda_2t)\\right)\n",
      "\\end{eqnarray}\n",
      "Now if we assume that $A_2$ is a stable isotope with infinite decay half-life $T_{1/2}$:\n",
      "$$\\lambda_2=\\lim_{T_{1/2}\\rightarrow \\infty}\\frac{\\ln 2}{T_{1/2}}=0$$\n",
      "we obtain \n",
      "$$\n",
      "N_2=N_1(1-\\exp(\\lambda_1t))\n",
      "$$\n",
      "which is the number of nuclei of $A_2$ (the number of decayed nuclei of $A_1$).\n",
      "\n",
      "If we assume a case that $A_1$ decays to $A_2$ with branching ratio $\\beta^{1\\rightarrow 2}\\leq 1$ and at $t=0$ there was already present an inventory of $A_2$ $N_2(t=0)$, the equations reads:\n",
      "$$\n",
      "N_2=N_1\\beta^{1\\rightarrow 2}\\frac{\\lambda_1}{\\lambda_2-\\lambda_1}\\left(\\exp(-\\lambda_1t)-\\exp(-\\lambda_2t)\\right) + N_2(t=0)\\exp(-\\lambda_2t).\n",
      "$$\n",
      "\n",
      "Number of atoms $N$ is related to activity $a$ as\n",
      "$$A=\\lambda N.$$\n",
      "\n",
      "\\begin{eqnarray}\n",
      "a_2=\\lambda_2N_2 & = &\\lambda_2\\lambda_1N_1\\beta^{1\\rightarrow 2}\\frac{1}{\\lambda_2-\\lambda_1}\\left(\\exp(-\\lambda_1t)-\\exp(-\\lambda_2t)\\right) + \\lambda_2N_2(t=0)\\exp(-\\lambda_2t)\\\\\n",
      " & = & a_1\\beta^{1\\rightarrow 2}\\frac{\\lambda_2}{\\lambda_2-\\lambda_1}\\left(\\exp(-\\lambda_1t)-\\exp(-\\lambda_2t)\\right) + a_2(t=0)\\exp(-\\lambda_2t)\n",
      "\\end{eqnarray}\n",
      "\n",
      "This shows how to derive relation for any number of nulicdes using Bateman equation for number of atoms and this convert to activities!"
     ]
    },
    {
     "cell_type": "markdown",
     "metadata": {},
     "source": [
      "#### Concentration activity of daughter when $A_1\\rightarrow A_2 \\rightarrow A_3$ with $A_3$ beying a stable radionuclide:\n",
      "$$\n",
      "c_2(t)=c_1(t=0)\\beta^{1\\rightarrow 2}\\frac{\\lambda_2}{\\lambda_2-\\lambda_1}\\left(\\exp(-\\lambda_1t)-\\exp(-\\lambda_2 t) \\right) +\n",
      "c_2(t=0)\\exp(-\\lambda_2 t)\n",
      "$$\n"
     ]
    },
    {
     "cell_type": "markdown",
     "metadata": {},
     "source": [
      "#### How to use it with FLEXPART output?\n",
      "\n",
      "So, similarly to decay of an isotope to a stable one we have to ingrate this decay equation over a time step:\n",
      "\\begin{eqnarray}\n",
      "\\bar{c_2}(t_1,t_2) & = &  \\int_{t_1}^{t_2} c_2(t)dt\\\\\n",
      " & = & \\frac{1}{t_2-t_1}\\int_{t_1}^{t_2}\\left( c_1\\beta^{1\\rightarrow 2}\\frac{\\lambda_2}{\\lambda_2-\\lambda_1}\\left(\\exp(-\\lambda_1t)-\\exp(-\\lambda_2t)\\right) + c_2\\exp(-\\lambda_2t) \\right)dt \\\\\n",
      "   & = & \\frac{c_1\\beta^{1\\rightarrow 2}\\lambda_2}{(\\lambda_2-\\lambda_1)(t_2-t_1)}\\int_{t_1}^{t_2}\\left(\\exp(-\\lambda_1t)-\\exp(-\\lambda_2t)\\right)dt + \\frac{c_2}{t_2-t_1}\\int_{t_1}^{t_2}\\exp(-\\lambda_2t) dt \\\\\n",
      "   & = & \\frac{c_1\\beta^{1\\rightarrow 2}\\lambda_2}{(\\lambda_2-\\lambda_1)(t_2-t_1)} \n",
      "   \\left(-\\frac{1}{\\lambda_1}[\\exp(-\\lambda_1 t_2) - \\exp(-\\lambda_1 t_1)] +\\frac{1}{\\lambda_2}[\\exp(-\\lambda_2 t_2) - \\exp(-\\lambda_2 t_1)]\\right) \n",
      "   +\\frac{c_2}{\\lambda_2(t_2-t_1)}[\\exp(-\\lambda_2 t_1) - \\exp(-\\lambda_2 t_2)].\n",
      "\\end{eqnarray}\n",
      "\n",
      "This should be an average concentration of species $A_2$ in time interval $n$ from $t_1$ to $t_2$ due to decays of its relesed quatity $c_2$ and ingrowth from decay of species $A_1$ with concentration $c_1$ and branching ratio $\\beta^{1\\rightarrow 2}$."
     ]
    },
    {
     "cell_type": "markdown",
     "metadata": {},
     "source": [
      "Let's try to code it:"
     ]
    },
    {
     "cell_type": "code",
     "collapsed": false,
     "input": [
      "def decay_2(t1, t2, lamb1, lamb2, branch12):\n",
      "    \"\"\"\n",
      "    calculates decay of species A1 into species A2 which also decays with lambda2 into a stable isotope\n",
      "    \n",
      "    t1, t2 - time in second since the end of chain reaction\n",
      "    lamb1, lamb2 - radioactive decay constants of A1 and A2, respectively\n",
      "    branch12 - branching ratio of decay A1 to A2\n",
      "    \"\"\"\n",
      "    \n",
      "    ret = (math.exp(-lamb1*t1) - math.exp(-lamb1*t2))/lamb1 + (math.exp(-lamb2*t2) - math.exp(-lamb2*t1))/lamb2\n",
      "    ret = ret * branch12 * lamb2 / ((lamb2-lamb1)*(t2-t1)) \n",
      "    return ret"
     ],
     "language": "python",
     "metadata": {},
     "outputs": [],
     "prompt_number": 130
    },
    {
     "cell_type": "markdown",
     "metadata": {},
     "source": [
      "#### Let's try it out! Transient equilibrium of Mo-99 and Tc-99m"
     ]
    },
    {
     "cell_type": "code",
     "collapsed": false,
     "input": [
      "thalf1 = 66 #* 3600. # Mo-99\n",
      "thalf2 = 6 #* 3600.  # Tc-99m\n",
      "lamb1 = get_lambda(thalf1)\n",
      "lamb2 = get_lambda(thalf2)\n",
      "\n",
      "print lamb1, lamb2 \n",
      "\n",
      "branch = 1  # 0.1 goes directly to Tc-99\n",
      "\n",
      "timestep = 0.1#*3600.  # time step in seconds\n",
      "dimx = 1000  # number of time steps\n",
      "\n",
      "a1 = numpy.ones(dimx)     # how much parent nuclide is present?\n",
      "a2 = numpy.ones(dimx)*0.  # how much A2 is already present?\n",
      "a1_dec = numpy.zeros(dimx)\n",
      "a2_dec = numpy.zeros(dimx)\n",
      "\n",
      "for t in range(dimx):\n",
      "    a2_dec[t] =  a1[t] * decay_2(t*timestep, (t+1)*timestep, lamb1, lamb2, branch)  # decay of A1 to A2 and to stable\n",
      "    a2_dec[t] +=  a2[t] * decay(t*timestep, (t+1)*timestep, lamb2)  # decay of already present A2\n",
      "    \n",
      "    a1_dec[t] =  a1[t] * decay(t*timestep, (t+1)*timestep, lamb1)  # decay of already present A2\n",
      "\n",
      "\n",
      "plt.step(range(2,dimx+2), a1_dec, label=\"parent\")\n",
      "plt.step(range(2,dimx+2), a2_dec, label=\"daughter\")  # we shist the support to have the value valid the following interval, not preceeding\n",
      "\n",
      "plt.xlabel(\"Time step\")\n",
      "plt.ylabel(\"Activity concentration\")\n",
      "#plt.ylim(-0.1,1.1)\n",
      "plt.xlim(0,dimx+1)\n",
      "plt.grid()\n",
      "plt.legend(loc=\"best\")\n",
      "#plt.yscale('log')"
     ],
     "language": "python",
     "metadata": {},
     "outputs": [
      {
       "output_type": "stream",
       "stream": "stdout",
       "text": [
        "0.0105022300085 0.115524530093\n"
       ]
      },
      {
       "metadata": {},
       "output_type": "pyout",
       "prompt_number": 131,
       "text": [
        "<matplotlib.legend.Legend at 0x10e6cda90>"
       ]
      },
      {
       "metadata": {},
       "output_type": "display_data",
       "png": "[encoded data removed]",
       "text": [
        "<matplotlib.figure.Figure at 0x10e0d53d0>"
       ]
      }
     ],
     "prompt_number": 131
    },
    {
     "cell_type": "markdown",
     "metadata": {},
     "source": [
      "#### Transient equilibrium of Ba-140 and La-140"
     ]
    },
    {
     "cell_type": "code",
     "collapsed": false,
     "input": [
      "thalf1 = 12.77  # days\n",
      "thalf2 = 1.68   # days\n",
      "\n",
      "lamb1 = get_lambda(thalf1)  # Ba-140\n",
      "lamb2 = get_lambda(thalf2)  # La-140\n",
      "\n",
      "print lamb1, lamb2 \n",
      "\n",
      "branch = 1 \n",
      "\n",
      "timestep = 0.1#*3600.  # time step in seconds\n",
      "dimx = 300  # number of time steps\n",
      "\n",
      "a1 = numpy.ones(dimx)    # how much parent nuclide is present?\n",
      "a2 = numpy.ones(dimx)*0.  # how much A2 is already present?\n",
      "a1_dec = numpy.zeros(dimx)\n",
      "a2_dec = numpy.zeros(dimx)\n",
      "\n",
      "for t in range(dimx):\n",
      "    a2_dec[t] =  a1[t] * decay_2(t*timestep, (t+1)*timestep, lamb1, lamb2, branch)  # decay of A1 to A2 and to stable\n",
      "    a2_dec[t] +=  a2[t] * decay(t*timestep, (t+1)*timestep, lamb2)  # decay of already present A2\n",
      "    \n",
      "    a1_dec[t] =  a1[t] * decay(t*timestep, (t+1)*timestep, lamb1)  # decay of already present A2\n",
      "\n",
      "\n",
      "plt.step(range(2,dimx+2), a1_dec, label=\"parent\")\n",
      "plt.step(range(2,dimx+2), a2_dec, label=\"daughter\")  # we shist the support to have the value valid the following interval, not preceeding\n",
      "\n",
      "plt.xlabel(\"Time step\")\n",
      "plt.ylabel(\"Activity concentration\")\n",
      "#plt.ylim(-0.1,1.1)\n",
      "plt.xlim(0,dimx+1)\n",
      "plt.grid()\n",
      "plt.legend(loc=\"best\")\n",
      "#plt.yscale('log')"
     ],
     "language": "python",
     "metadata": {},
     "outputs": [
      {
       "output_type": "stream",
       "stream": "stdout",
       "text": [
        "0.054279340686 0.412587607476\n"
       ]
      },
      {
       "metadata": {},
       "output_type": "pyout",
       "prompt_number": 114,
       "text": [
        "<matplotlib.legend.Legend at 0x10d5dda50>"
       ]
      },
      {
       "metadata": {},
       "output_type": "display_data",
       "png": "[encoded data removed]",
       "text": [
        "<matplotlib.figure.Figure at 0x10ae03c50>"
       ]
      }
     ],
     "prompt_number": 114
    },
    {
     "cell_type": "markdown",
     "metadata": {},
     "source": [
      "### $A_1\\rightarrow A_2 \\rightarrow A_3 \\rightarrow A_4$ where $A_4$ is stable"
     ]
    },
    {
     "cell_type": "markdown",
     "metadata": {},
     "source": [
      "maybe...:)"
     ]
    },
    {
     "cell_type": "markdown",
     "metadata": {},
     "source": [
      "### So, how to plug it into a Flexpart run"
     ]
    },
    {
     "cell_type": "markdown",
     "metadata": {},
     "source": [
      "* Nuclide data for selected elements (taken from the Canadian publication, inhalation needs to be added):"
     ]
    },
    {
     "cell_type": "code",
     "collapsed": false,
     "input": [
      "rad_data = {\n",
      "'Cs-125': {'halflife': 2700.0, 'cloud': 3.01e-14, 'ground': 6.85e-16},\n",
      "'Cs-126': {'halflife': 98.4, 'cloud': 4.96e-14, 'ground': 1.18e-15},\n",
      "'Cs-127': {'halflife': 22500.0, 'cloud': 1.78e-14, 'ground': 3.95e-16},\n",
      "'Cs-128': {'halflife': 234.0, 'cloud': 4.06e-14, 'ground': 9.54e-16},\n",
      "'Cs-129': {'halflife': 115776.0, 'cloud': 1.13e-14, 'ground': 2.62e-16},\n",
      "'Cs-130': {'halflife': 1792.8, 'cloud': 2.3e-14, 'ground': 5.41e-16},\n",
      "'Cs-131': {'halflife': 837216.0, 'cloud': 2.38e-16, 'ground': 1.79e-17},\n",
      "'Cs-132': {'halflife': 559872.0, 'cloud': 3.11e-14, 'ground': 6.69e-16},\n",
      "'Cs-134': {'halflife': 64964160.0, 'cloud': 7.06e-14, 'ground': 1.48e-15},\n",
      "'Cs-134m': {'halflife': 10440.0, 'cloud': 7.95e-16, 'ground': 2.25e-17},\n",
      "'Cs-135': {'halflife': 7.25328e+13, 'cloud': 9.5e-18, 'ground': 2.69e-20},\n",
      "'Cs-135m': {'halflife': 3178.8, 'cloud': 7.25e-14, 'ground': 1.51e-15},\n",
      "'Cs-136': {'halflife': 1131840.0, 'cloud': 9.94e-14, 'ground': 2.03e-15},\n",
      "'Cs-137': {'halflife': 946080000.0, 'cloud': 9.28e-17, 'ground': 2.99e-18},\n",
      "'Cs-138': {'halflife': 1929.6, 'cloud': 1.15e-13, 'ground': 2.26e-15},\n",
      "'I-120': {'halflife': 4860.0, 'cloud': 1.31e-13, 'ground': 2.62e-15},\n",
      "'I-120m': {'halflife': 3178.8, 'cloud': 2.49e-13, 'ground': 5.01e-15},\n",
      "'I-121': {'halflife': 7632.0, 'cloud': 1.78e-14, 'ground': 3.96e-16},\n",
      "'I-122': {'halflife': 217.2, 'cloud': 4.31e-14, 'ground': 1.02e-15},\n",
      "'I-123': {'halflife': 47520.0, 'cloud': 6.49e-15, 'ground': 1.53e-16},\n",
      "'I-124': {'halflife': 361152.0, 'cloud': 5.04e-14, 'ground': 1.04e-15},\n",
      "'I-125': {'halflife': 5192640.0, 'cloud': 3.73e-16, 'ground': 3.14e-17},\n",
      "'I-126': {'halflife': 1123200.0, 'cloud': 2.01e-14, 'ground': 4.42e-16},\n",
      "'I-128': {'halflife': 1497.6, 'cloud': 4.33e-15, 'ground': 1.71e-16},\n",
      "'I-129': {'halflife': 4.951152e+14, 'cloud': 2.81e-16, 'ground': 1.95e-17},\n",
      "'I-130': {'halflife': 44640.0, 'cloud': 9.67e-14, 'ground': 2.05e-15},\n",
      "'I-131': {'halflife': 694656.0, 'cloud': 1.69e-14, 'ground': 3.64e-16},\n",
      "'I-132': {'halflife': 8280.0, 'cloud': 1.05e-13, 'ground': 2.2e-15},\n",
      "'I-132m': {'halflife': 5004.0, 'cloud': 1.42e-14, 'ground': 3.11e-16},\n",
      "'I-133': {'halflife': 74880.0, 'cloud': 2.76e-14, 'ground': 6.17e-16},\n",
      "'I-134': {'halflife': 3153.6, 'cloud': 1.22e-13, 'ground': 2.53e-15},\n",
      "'I-135': {'halflife': 23796.0, 'cloud': 7.54e-14, 'ground': 1.47e-15},\n",
      "'Ar-37': {'halflife': 3024000.0, 'cloud': 4.75e-20, 'ground': -999},\n",
      "'Ar-39': {'halflife': 8483184000.0, 'cloud': 1.27e-16, 'ground': -999},\n",
      "'Ar-41': {'halflife': 6588.0, 'cloud': 6.13e-14, 'ground': -999},\n",
      "'Kr-74': {'halflife': 690.0, 'cloud': 5.21e-14, 'ground': -999},\n",
      "'Kr-76': {'halflife': 53280.0, 'cloud': 1.85e-14, 'ground': -999},\n",
      "'Kr-77': {'halflife': 4482.0, 'cloud': 4.51e-14, 'ground': -999},\n",
      "'Kr-79': {'halflife': 126144.0, 'cloud': 1.12e-14, 'ground': -999},\n",
      "'Kr-81': {'halflife': 6.62256e+12, 'cloud': 2.43e-16, 'ground': -999},\n",
      "'Kr-83m': {'halflife': 6588.0, 'cloud': 2.43e-18, 'ground': -999},\n",
      "'Kr-85': {'halflife': 337435200.0, 'cloud': 2.55e-16, 'ground': -999},\n",
      "'Kr-85m': {'halflife': 16128.0, 'cloud': 6.83e-15, 'ground': -999},\n",
      "'Kr-87': {'halflife': 4572.0, 'cloud': 3.94e-14, 'ground': -999},\n",
      "'Kr-88': {'halflife': 10224.0, 'cloud': 9.72e-14, 'ground': -999},\n",
      "'Xe-120': {'halflife': 2400.0, 'cloud': 1.74e-14, 'ground': -999},\n",
      "'Xe-121': {'halflife': 2406.0, 'cloud': 8.68e-14, 'ground': -999},\n",
      "'Xe-122': {'halflife': 72360.0, 'cloud': 2.2e-15, 'ground': -999},\n",
      "'Xe-123': {'halflife': 7488.0, 'cloud': 2.78e-14, 'ground': -999},\n",
      "'Xe-125': {'halflife': 61200.0, 'cloud': 1.08e-14, 'ground': -999},\n",
      "'Xe-127': {'halflife': 3144960.0, 'cloud': 1.12e-14, 'ground': -999},\n",
      "'Xe-129m': {'halflife': 691200.0, 'cloud': 9.38e-16, 'ground': -999},\n",
      "'Xe-131m': {'halflife': 1028160.0, 'cloud': 3.7e-16, 'ground': -999},\n",
      "'Xe-133m': {'halflife': 189216.0, 'cloud': 1.27e-15, 'ground': -999},\n",
      "'Xe-133': {'halflife': 452736.0, 'cloud': 1.39e-15, 'ground': -999},\n",
      "'Xe-135m': {'halflife': 918.0, 'cloud': 1.85e-14, 'ground': -999},\n",
      "'Xe-135': {'halflife': 32760.0, 'cloud': 1.11e-14, 'ground': -999},\n",
      "'Xe-138': {'halflife': 852.0, 'cloud': 5.44e-14, 'ground': -999},\n",
      "}"
     ],
     "language": "python",
     "metadata": {},
     "outputs": []
    },
    {
     "cell_type": "markdown",
     "metadata": {},
     "source": [
      "#### Sooo, what to do:\n",
      "* We have a forward Flexpart run with unit releases\n",
      "* Let us assume that the source term is created by hourly releases (ot some time delta...)\n",
      "* So, it means, that each release slot has to be simulated separatelly in order to be able to mutiply each release slot by a released activity for a particular nuclide\n",
      "* Finally, releases of a give nuclide at given times will be summed up to get overall concentration\n",
      "* So, I will need some automated way for creating a tree of runs with two species\n",
      "\n",
      "#### So, I need a way for automated creation of run trees for a given source term\n",
      "* So let's start with a structure defining the source term and the release from which a run tree will be generated:"
     ]
    },
    {
     "cell_type": "code",
     "collapsed": false,
     "input": [
      "SOURCE_TERM = {\n",
      "    \"ts\" : 3600,  # time step in seconds:\n",
      "    \"release_start\" : \"20150428 12:00\",\n",
      "    \"release_end\"   : \"20150428 14:00\",  # e.g. a 2 hours of release, i.e. two time steps of length 1 hour\n",
      "    \"sources\" : [  # an array with list of sources acting at that time (list of lists)\n",
      "                    # TIME STEP 1\n",
      "                    [{\"lat0\":lat0,  # source 1 for time step 1\n",
      "                      \"lon0\":lon0,\n",
      "                      \"lat1\":lat1,\n",
      "                      \"lon1\":lon1,\n",
      "                      \"h0\":  0,  # bottom of layer in meters\n",
      "                      \"h1\": 50,  # top of layer in meters\n",
      "                      \"inventory\": {\"Cs-137\": (1e10,1), \"I-131\": (1e11,1), \"Xe-133\": (1e10,0)}  # (release, species)\n",
      "                     },\n",
      "                     {\"lat0\":lat0,  # source 2 for time step 1\n",
      "                      \"lon0\":lon0,\n",
      "                      \"lat1\":lat1,\n",
      "                      \"lon1\":lon1,\n",
      "                      \"h0\":  50,  # bottom of layer in meters\n",
      "                      \"h1\": 200,  # top of layer in meters\n",
      "                      \"inventory\": {\"Cs-137\": (1e11,1), \"I-131\": (1e12,1) , \"Xe-133\": (1e13,0)}\n",
      "                     }],\n",
      "                    # TIME STEP 2\n",
      "                    [{\"lat0\":lat0,  # source 1 for time step 2\n",
      "                      \"lon0\":lon0,\n",
      "                      \"lat1\":lat1,\n",
      "                      \"lon1\":lon1,\n",
      "                      \"h0\":  0,  # bottom of layer in meters\n",
      "                      \"h1\": 50,  # top of layer in meters\n",
      "                      \"inventory\": {\"Cs-137\": (1e9,1), \"I-131\": (1e10,1), \"Xe-133\": (0.,0)}\n",
      "                     },\n",
      "                     {\"lat0\":lat0,  # source 2 for time step 2\n",
      "                      \"lon0\":lon0,\n",
      "                      \"lat1\":lat1,\n",
      "                      \"lon1\":lon1,\n",
      "                      \"h0\":  50,  # bottom of layer in meters\n",
      "                      \"h1\": 200,  # top of layer in meters\n",
      "                      \"inventory\": {\"Cs-137\": (1e10,1), \"I-131\": (1e11,1), \"Xe-133\": (0.,0)}\n",
      "                     }]\n",
      "                ]\n",
      "    }"
     ],
     "language": "python",
     "metadata": {},
     "outputs": []
    }
   ],
   "metadata": {}
  }
 ]
}